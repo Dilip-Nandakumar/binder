{
 "cells": [
  {
   "cell_type": "code",
   "execution_count": null,
   "metadata": {},
   "outputs": [],
   "source": [
    "import (\n",
    "    \"os\"\n",
    "    \n",
    "    \"github.com/astrogo/fitsio\"\n",
    ")"
   ]
  },
  {
   "cell_type": "code",
   "execution_count": null,
   "metadata": {},
   "outputs": [],
   "source": [
    "r, err := os.Open(\"testdata/HorseHead.fits\")\n",
    "if err != nil {\n",
    "    panic(err)\n",
    "}\n",
    "defer r.Close()"
   ]
  },
  {
   "cell_type": "code",
   "execution_count": null,
   "metadata": {},
   "outputs": [],
   "source": [
    "f, err := fitsio.Open(r)\n",
    "if err != nil {\n",
    "    panic(err)\n",
    "}\n",
    "defer f.Close()"
   ]
  },
  {
   "cell_type": "code",
   "execution_count": null,
   "metadata": {},
   "outputs": [],
   "source": [
    "printf(\"hdus: %d\\n\", len(f.HDUs()))\n",
    "hdu := f.HDU(0)\n",
    "printf(\"hdu: %q %v\\n\", hdu.Name(), hdu.Type())"
   ]
  },
  {
   "cell_type": "code",
   "execution_count": null,
   "metadata": {},
   "outputs": [],
   "source": [
    "img := hdu.(fitsio.Image)"
   ]
  },
  {
   "cell_type": "code",
   "execution_count": null,
   "metadata": {},
   "outputs": [],
   "source": [
    "img.Image()"
   ]
  }
 ],
 "metadata": {
  "kernelspec": {
   "display_name": "Go",
   "language": "go",
   "name": "go"
  },
  "language_info": {
   "codemirror_mode": "go",
   "file_extension": ".go",
   "mimetype": "",
   "name": "go",
   "nbconvert_exporter": "",
   "pygments_lexer": "go",
   "version": "unreleased"
  }
 },
 "nbformat": 4,
 "nbformat_minor": 2
}
