{
 "cells": [
  {
   "cell_type": "code",
   "execution_count": 1,
   "metadata": {
    "collapsed": false
   },
   "outputs": [
    {
     "name": "stdout",
     "output_type": "stream",
     "text": []
    },
    {
     "data": {},
     "execution_count": 1,
     "metadata": {},
     "output_type": "execute_result"
    }
   ],
   "source": [
    "import (\n",
    "\t\"math\"\n",
    "\t\"sort\"\n",
    "\n",
    "\t\"gonum.org/v1/gonum/stat\"\n",
    ")"
   ]
  },
  {
   "cell_type": "code",
   "execution_count": 3,
   "metadata": {
    "collapsed": false
   },
   "outputs": [
    {
     "name": "stdout",
     "output_type": "stream",
     "text": [
      "data: [32.32 56.98 21.52 44.32 55.63 13.75 43.47 43.34 12.34]\n"
     ]
    },
    {
     "data": {},
     "execution_count": 3,
     "metadata": {},
     "output_type": "execute_result"
    }
   ],
   "source": [
    "xs := []float64{\n",
    "\t32.32, 56.98, 21.52, 44.32,\n",
    "\t55.63, 13.75, 43.47, 43.34,\n",
    "\t12.34,\n",
    "}\n",
    "\n",
    "printf(\"data: %v\\n\", xs)"
   ]
  },
  {
   "cell_type": "code",
   "execution_count": 6,
   "metadata": {
    "collapsed": false
   },
   "outputs": [
    {
     "name": "stdout",
     "output_type": "stream",
     "text": []
    },
    {
     "data": {},
     "execution_count": 6,
     "metadata": {},
     "output_type": "execute_result"
    }
   ],
   "source": [
    "// computes the weighted mean of the dataset.\n",
    "// we don't have any weights (ie: all weights are 1)\n",
    "// so we just pass a nil slice.\n",
    "mean := stat.Mean(xs, nil)\n",
    "variance := stat.Variance(xs, nil)\n",
    "stddev := math.Sqrt(variance)"
   ]
  },
  {
   "cell_type": "code",
   "execution_count": 8,
   "metadata": {
    "collapsed": false
   },
   "outputs": [
    {
     "name": "stdout",
     "output_type": "stream",
     "text": [
      "data: [12.34 13.75 21.52 32.32 43.34 43.47 44.32 55.63 56.98] (sorted)\n"
     ]
    },
    {
     "data": {},
     "execution_count": 8,
     "metadata": {},
     "output_type": "execute_result"
    }
   ],
   "source": [
    "// stat.Quantile needs the input slice to be sorted.\n",
    "sort.Float64s(xs)\n",
    "printf(\"data: %v (sorted)\\n\", xs)"
   ]
  },
  {
   "cell_type": "code",
   "execution_count": 13,
   "metadata": {
    "collapsed": false
   },
   "outputs": [
    {
     "name": "stdout",
     "output_type": "stream",
     "text": [
      "mean=     35.96333333333334\n",
      "median=   43.34\n",
      "variance= 285.306875\n",
      "std-dev=  16.891029423927957\n"
     ]
    },
    {
     "data": {},
     "execution_count": 13,
     "metadata": {},
     "output_type": "execute_result"
    }
   ],
   "source": [
    "// computes the median of the dataset.\n",
    "// here as well, we pass a nil slice as weights.\n",
    "median := stat.Quantile(0.5, stat.Empirical, xs, nil)\n",
    "\n",
    "printf(\"mean=     %v\\n\", mean)\n",
    "printf(\"median=   %v\\n\", median)\n",
    "printf(\"variance= %v\\n\", variance)\n",
    "printf(\"std-dev=  %v\\n\", stddev)"
   ]
  }
 ],
 "metadata": {
  "kernelspec": {
   "display_name": "Neugram",
   "language": "neugram",
   "name": "neugram"
  },
  "language_info": {
   "codemirror_mode": "",
   "file_extension": ".ng",
   "mimetype": "",
   "name": "neugram",
   "nbconvert_exporter": "",
   "pygments_lexer": "",
   "version": "unreleased"
  }
 },
 "nbformat": 4,
 "nbformat_minor": 0
}
